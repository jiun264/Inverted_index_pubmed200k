{
 "cells": [
  {
   "cell_type": "code",
   "execution_count": 1,
   "metadata": {},
   "outputs": [
    {
     "name": "stdout",
     "output_type": "stream",
     "text": [
      "----------------------------------------\n",
      "Document 1\n",
      "###24491034\n",
      "\n",
      "----------------------------------------\n",
      "Document 2\n",
      "BACKGROUND\tThe emergence of HIV as a chronic condition means that people living with HIV are required to take more responsibility for the self-management of their condition , including making physical , emotional and social adjustments .\n",
      "\n",
      "----------------------------------------\n",
      "Document 3\n",
      "BACKGROUND\tThis paper describes the design and evaluation of Positive Outlook , an online program aiming to enhance the self-management skills of gay men living with HIV .\n",
      "\n",
      "----------------------------------------\n",
      "Document 4\n",
      "METHODS\tThis study is designed as a randomised controlled trial in which men living with HIV in Australia will be assigned to either an intervention group or usual care control group .\n",
      "\n",
      "----------------------------------------\n",
      "Document 5\n",
      "METHODS\tThe intervention group will participate in the online group program ` Positive Outlook ' .\n",
      "\n"
     ]
    }
   ],
   "source": [
    "import os\n",
    "from time import time\n",
    "\n",
    "# 設定資料集檔案路徑\n",
    "file_path = '/home/brian/Desktop/code/python code/IR/Pubmed 220 Train 2022-01-21.txt'\n",
    "\n",
    "# 讀取資料集文件\n",
    "with open(file_path, 'r', encoding='utf-8') as file:\n",
    "    # 讀取並顯示前 5 篇文檔\n",
    "    for i in range(5):\n",
    "        print('----------------------------------------')\n",
    "        print('Document', i+1)\n",
    "        print(file.readline())  # 讀取一行內容"
   ]
  },
  {
   "cell_type": "code",
   "execution_count": 6,
   "metadata": {},
   "outputs": [],
   "source": [
    "import json\n",
    "\n",
    "# 設定輸入文件路徑和輸出文件路徑\n",
    "input_file_path = '/home/brian/Desktop/code/python code/IR/Pubmed 220 Train 2022-01-21.txt'\n",
    "output_file_path = '/home/brian/Desktop/code/python code/IR/processed/pubmed_200k.jsonl'\n",
    "\n",
    "# 打開輸入文件並處理每個文檔\n",
    "with open(input_file_path, 'r', encoding='utf-8') as input_file, open(output_file_path, 'w', encoding='utf-8') as output_file:\n",
    "    document_id = None\n",
    "    document_content = ''\n",
    "    for line in input_file:\n",
    "        if line.startswith('###'):\n",
    "            # 如果遇到新的文檔標識符，將上一個文檔寫入到輸出文件中\n",
    "            if document_id is not None:\n",
    "                json.dump({\"id\": document_id, \"contents\": document_content.strip()}, output_file)\n",
    "                output_file.write('\\n')  # 每個文檔後面換行\n",
    "            # 更新文檔標識符和內容\n",
    "            document_id = line.strip().replace('#', '')\n",
    "            document_content = ''\n",
    "        else:\n",
    "            # 將行添加到文檔內容中\n",
    "            document_content += line.strip() + ' '\n",
    "\n",
    "    # 將最後一個文檔寫入到輸出文件中\n",
    "    if document_id is not None:\n",
    "        json.dump({\"id\": document_id, \"contents\": document_content.strip()}, output_file)\n"
   ]
  },
  {
   "cell_type": "markdown",
   "metadata": {},
   "source": [
    "python -m pyserini.index.lucene \\\n",
    "  --collection JsonCollection \\\n",
    "  --input \"/home/brian/Desktop/code/python code/IR/processed/\" \\\n",
    "  --index \"/home/brian/Desktop/code/python code/IR/pubmed_200k_index\" \\\n",
    "  --generator DefaultLuceneDocumentGenerator \\\n",
    "  --threads 1 \\\n",
    "  --storePositions --storeDocvectors --storeRaw"
   ]
  },
  {
   "cell_type": "code",
   "execution_count": 42,
   "metadata": {},
   "outputs": [
    {
     "name": "stdout",
     "output_type": "stream",
     "text": [
      "執行時間：0.005261 秒\n",
      "Document 1:\n",
      "{\n",
      "  \"id\" : \"24747090\",\n",
      "  \"contents\" : \"OBJECTIVE\\tWe examine the role of body mass index in the assessment of prostate cancer risk . METHODS\\tA total of 3,258 participants who underwent biopsy ( including 1,902 men with a diagnosis of prostate cancer ) were identified from the Selenium and Vitamin E Cancer Prevention Trial . METHODS\\tThe associations of body mass index with prostate cancer and high grade prostate cancer were examined using logistic regression , adjusting for age , race , body mass index adjusted prostate specific antigen , digital rectal examination , family history of prostate cancer , biopsy history , prostate specific antigen velocity , and time between study entry and the last biopsy . METHODS\\tThe prediction models were compared with our previously developed body mass index adjusted Prostate Cancer Prevention Trial prostate cancer risk calculator . RESULTS\\tOf the study subjects 49.1 % were overweight and 29.3 % were obese . RESULTS\\tAfter adjustment , among men without a known family history of prostate cancer , increased body mass index was not associated with a higher risk of prostate cancer ( per one-unit increase in logBMI OR 0.83 , p = 0.54 ) but was significantly associated with a higher risk of high grade prostate cancer ( ieGleason score 7 or greater prostate cancer ) ( OR 2.31 , p = 0.03 ) . RESULTS\\tFor men with a known family history of prostate cancer the risks of prostate cancer and high grade prostate cancer increased rapidly as body mass index increased ( prostate cancer OR 3.73 , p = 0.02 ; high grade prostate cancer OR 7.95 , p = 0.002 ) . RESULTS\\tThe previously developed risk calculator generally underestimated the risks of prostate cancer and high grade prostate cancer . CONCLUSIONS\\tBody mass index provided independently predictive information regarding the risks of prostate cancer and high grade prostate cancer after adjusting for other risk factors . CONCLUSIONS\\tBody mass index , especially in men with a known family history of prostate cancer , should be considered for inclusion in any clinical assessment of prostate cancer risk and recommendations regarding prostate biopsy .\"\n",
      "}\n",
      "-------------------\n",
      "Document 2:\n",
      "{\n",
      "  \"id\" : \"24645632\",\n",
      "  \"contents\" : \"BACKGROUND\\tSkin cancer survivors experience an increased risk for subsequent malignancies but the associated risk factors are poorly understood . BACKGROUND\\tThis study examined the risk of a new primary cancer following an initial skin cancer and assessed risk factors associated with second primary cancers . METHODS\\tAll invasive cutaneous malignant melanomas ( CMM , N = 28 069 ) and squamous cell carcinomas ( SCC , N = 24 620 ) diagnosed in Norway during 1955-2008 were included . METHODS\\tRates of new primary cancers in skin cancer survivors were compared to rates of primary malignancies in the general population using standardized incidence ratios ( SIR ) . METHODS\\tDiscrete-time logistic regression models were applied to individual-level data to estimate cancer risk among those with and without a prior skin cancer , accounting for residential region , education , income , parenthood , marital status and parental cancer status , using a 20 % random sample of the entire Norwegian population as reference . METHODS\\tFurther analyses of the skin cancer cohort were undertaken to determine risk factors related to subsequent cancers . RESULTS\\tDuring follow-up , 9608 new primary cancers occurred after an initial skin cancer . RESULTS\\tSIR analyses showed 50 % and 90 % increased risks for any cancer after CMM and SCC , respectively ( p < 0.01 ) . RESULTS\\tThe logistic regression model suggested even stronger increase after SCC ( 130 % ) . RESULTS\\tThe highest risk was seen for subsequent skin cancers , but several non-skin cancers were also diagnosed in excess : oral , lung , colon , breast , prostate , thyroid , leukemia , lymphoma and central nervous system . RESULTS\\tFactors that were associated with increased risk of subsequent cancers include male sex , older age , lower residential latitude , being married and low education and income . RESULTS\\tParental cancer did not increase the risk of a subsequent cancer after SCC , but was a significant predictor among younger CMM survivors . CONCLUSIONS\\tOur results provide information on shared environmental and genetic risk factors for first and later cancers and may help to identify individuals at high risk for subsequent cancers , which will be important as skin cancer incidence continues to rise .\"\n",
      "}\n",
      "-------------------\n",
      "Document 3:\n",
      "{\n",
      "  \"id\" : \"24569437\",\n",
      "  \"contents\" : \"BACKGROUND\\tNSABP P-1 provides an opportunity to examine the association of behavioral factors with prospectively monitored cancer incidence and interactions with tamoxifen . METHODS\\tFrom 1992 to 1997 , 13,388 women with estimated 5-year breast cancer risk greater than 1.66 % or a history of lobular carcinoma in situ ( 87 % younger than age 65 ; 67 % postmenopausal ) were randomly assigned to tamoxifen versus placebo . METHODS\\tInvasive breast cancer , lung cancer , colon cancer , and endometrial cancer were analyzed with Cox regression . METHODS\\tPredictors were baseline cigarette smoking , leisure-time physical activity , alcohol consumption , and established risk factors . RESULTS\\tAt median 7 years follow-up , we observed 395 , 66 , 35 , and 74 breast cancer , lung cancer , colon cancer , and endometrial cancer , respectively . RESULTS\\tWomen who had smoked were at increased risk of breast cancer ( P = 0.007 ; HR = 1.3 for 15-35 years smoking , HR = 1.6 for 35 years ) , lung cancer ( P < 0.001 ; HR = 3.9 for 15-35 years , HR = 18.4 for 35 years ) , and colon cancer ( P < 0.001 ; HR = 5.1 for 35 years ) versus never-smokers . RESULTS\\tLow activity predicted increased breast cancer risk only among women assigned to placebo ( P = 0.021 activity main effect , P = 0.013 activity-treatment interaction ; HR = 1.4 for the placebo group ) and endometrial cancer among all women ( P = 0.026 , HR = 1.7 ) . RESULTS\\tModerate alcohol ( > 0-1 drink/day ) was associated with decreased risk of colon cancer ( P = 0.019 ; HR = 0.35 ) versus no alcohol . RESULTS\\tThere were no other significant associations between these behaviors and cancer risk . CONCLUSIONS\\tAmong women with elevated risk of breast cancer , smoking has an even greater impact on breast cancer risk than observed in past studies in the general population . CONCLUSIONS\\tWomen who smoke or are inactive should be informed of the increased risk of multiple types of cancer .\"\n",
      "}\n",
      "-------------------\n",
      "Document 4:\n",
      "{\n",
      "  \"id\" : \"7752269\",\n",
      "  \"contents\" : \"BACKGROUND\\tTamoxifen is being increasingly used for the treatment of breast cancer and is undergoing study for the primary prevention of breast cancer . BACKGROUND\\tHowever , concerns have been raised that the drug may increase the incidence of new primary malignancies , such as endometrial , liver , and colorectal cancers . OBJECTIVE\\tOur goal was to assess the carcinogenic risks associated with long-term use of tamoxifen in women with early stage breast cancer . METHODS\\tThe incidence of new primary cancers among 2729 women participants of the Stockholm Trial was determined at a median follow-up of 9 years . METHODS\\tIn this trial , after primary surgery , postmenopausal patients aged less than 71 years with unilateral invasive breast cancer were randomly allocated to receive either 2 years of adjuvant tamoxifen ( 40 mg daily ) or no adjuvant endocrine therapy . METHODS\\tInformation on second cancers was obtained by retrospective linkage to the Swedish Cancer Registry . METHODS\\tTo increase statistical power , a joint analysis of the incidence of endometrial and gastrointestinal cancers was performed in the following three major studies in Scandinavia evaluating adjuvant tamoxifen therapy : the Stockholm Trial , the Danish Breast Cancer Group Trial , and the South-Swedish Trial . METHODS\\tThese studies included a total of 4914 patients with a median follow-up of 8-9 years . METHODS\\tAll P values were calculated from two-tailed tests of statistical significance . RESULTS\\tIn the Stockholm Trial , there was a statistically significant ( P = .008 ) reduction in the incidence of second primary cancers in the contralateral breast among the tamoxifen-treated patients . RESULTS\\tHowever , there was a nearly sixfold increase in endometrial cancers ( P < .001 ) and a threefold increase in gastrointestinal cancers in the tamoxifen-treated patients . RESULTS\\tThe results of the joint studies showed a statistically significant increase in endometrial cancers among the tamoxifen-treated patients ( relative risk [ RR ] = 4.1 ; 95 % confidence interval [ CI ] = 1.9-8 .9 ) . RESULTS\\tThere was also an excess of gastrointestinal cancers associated with tamoxifen . RESULTS\\tMost of this excess involved colorectal cancers ( RR = 1.9 ; 95 % CI = 1.1-3 .3 ) and stomach cancer ( RR = 3.2 ; 95 % CI = 0.9-11 .7 ) . RESULTS\\tThere was no substantial increase in any other type of gastrointestinal cancer ( e.g. , liver cancer ) among the tamoxifen-treated patients . CONCLUSIONS\\tThe endometrium and gastrointestinal organs may be target sites for tamoxifen-induced carcinogenesis in humans . CONCLUSIONS\\tThe increased incidence of colorectal and stomach cancers reported here should be regarded as tentative until supported by long-term data from a larger number of tamoxifen trials . CONCLUSIONS\\tAlso , appropriate surveillance of cancer incidence is warranted for the protection of participants enrolled in current tamoxifen chemoprevention trials .\"\n",
      "}\n",
      "-------------------\n",
      "Document 5:\n",
      "{\n",
      "  \"id\" : \"25017249\",\n",
      "  \"contents\" : \"BACKGROUND\\tThe World Cancer Research Fund ( WCRF ) and the American Institute for Cancer Research ( AICR ) published eight recommendations for cancer prevention , but they are not targeted at prostate cancer prevention . BACKGROUND\\tWe investigated whether adherence to the WCRF/AICR recommendations and a prostate cancer dietary index is associated with prostate cancer risk . METHODS\\tWe conducted a nested case-control study of 1,806 prostate-specific antigen ( PSA ) - detected prostate cancer cases and 12,005 controls in the ProtecT trial . METHODS\\tWe developed a prostate cancer dietary index by incorporating three dietary factors most strongly associated with prostate cancer . METHODS\\tScores were computed to quantify adherence to the WCRF/AICR recommendations and the prostate cancer dietary index separately . RESULTS\\tThe prostate cancer dietary index score was associated with decreased risk of prostate cancer [ OR per 1 score increment : 0.91 ; 95 % confidence interval ( CI ) : 0.84-0 .99 ; Ptrend = 0.04 ] but the WCRF/AICR index score was not ( OR : 0.99 ; 95 % CI : 0.94-1 .05 ; Ptrend = 0.71 ) . RESULTS\\tThere was no heterogeneity in association by prostate cancer stage ( P = 0.81 ) or grade ( P = 0.61 ) . RESULTS\\tGreater adherence to recommendations to increase plant foods ( OR per 0.25 index score increment : 0.94 ; 95 % CI : 0.89-0 .99 ; Ptrend = 0.02 ) and tomato products ( OR adherence vs. nonadherence : 0.82 ; 95 % CI : 0.70-0 .97 ; P = 0.02 ) was inversely associated with overall prostate cancer risk . CONCLUSIONS\\tAdherence to the prostate cancer-specific dietary recommendations was associated with decreased risk of prostate cancer . CONCLUSIONS\\tHigh intake of plant foods and tomato products in particular may help protect against prostate cancer . CONCLUSIONS\\tMeeting the WCRF/AICR recommendations alone is insufficient for prostate cancer prevention . CONCLUSIONS\\tAdditional dietary recommendations should be developed .\"\n",
      "}\n",
      "-------------------\n",
      "Document 6:\n",
      "{\n",
      "  \"id\" : \"20859673\",\n",
      "  \"contents\" : \"OBJECTIVE\\tTo assess the association between dietary acrylamide intake and the risk of cancer among male smokers . METHODS\\tThe study consisted of 27,111 male smokers , aged 50-69 years , without history of cancer . METHODS\\tThey were participants of the Alpha-Tocopherol , Beta-Carotene Cancer Prevention ( ATBC ) Study in Finland . METHODS\\tThe men completed a validated dietary questionnaire and a questionnaire on general background characteristics ( including smoking habits ) at baseline . METHODS\\tIncident cases of cancer were identified through the national Finnish Cancer Registry . RESULTS\\tDuring an average 10.2 year follow-up , 1,703 lung cancers , 799 prostate cancers , 365 urothelial cancers , 316 colorectal cancers , 224 stomach cancers , 192 pancreatic cancers , 184 renal cell cancers , and 175 lymphomas were diagnosed . RESULTS\\tDietary acrylamide intake was positively associated with the risk of lung cancer ; relative risk ( RR ) in the highest versus the lowest quintile in the multivariable-adjusted model was 1.18 ( ( 95 % confidence interval ( CI ) 1.01-1 .38 , p for trend 0.11 ) . RESULTS\\tOther cancers were not associated with acrylamide intake . CONCLUSIONS\\tHigh acrylamide intake is associated with increased risk of lung cancer but not with other cancers in male smokers .\"\n",
      "}\n",
      "-------------------\n",
      "Document 7:\n",
      "{\n",
      "  \"id\" : \"23448100\",\n",
      "  \"contents\" : \"BACKGROUND\\tThe Michigan Prevention Research Center , the University of Michigan Schools of Nursing , Public Health , and Medicine , and the Michigan Department of Community Health propose a multidisciplinary academic-clinical practice three-year project to increase breast cancer screening among young breast cancer survivors and their cancer-free female relatives at greatest risk for breast cancer . METHODS\\tThe study has three specific aims : 1 ) Identify and survey 3,000 young breast cancer survivors ( diagnosed at 20-45 years old ) regarding their breast cancer screening utilization . METHODS\\t2 ) Identify and survey survivors ' high-risk relatives regarding their breast cancer screening utilization . METHODS\\t3 ) Test two versions ( Targeted vs. Enhanced Tailored ) of an intervention to increase breast cancer screening among survivors and relatives . METHODS\\tFollowing approval by human subjects review boards , 3,000 young breast cancer survivors will be identified through the Michigan Cancer Registry and mailed an invitation letter and a baseline survey . METHODS\\tThe baseline survey will obtain information on the survivors ' : a ) current breast cancer screening status and use of genetic counseling ; b ) perceived barriers and facilitators to screening ; c ) family health history . METHODS\\tBased on the family history information provided by survivors , we will identify up to two high-risk relatives per survivor . METHODS\\tYoung breast cancer survivors will be mailed consent forms and baseline surveys to distribute to their selected high-risk relatives . METHODS\\tRelatives ' baseline survey will obtain information on their : a ) current breast cancer screening status and use of genetic counseling ; and b ) perceived barriers and facilitators to screening . METHODS\\tYoung breast cancer survivors and high-risk relatives will be randomized as a family unit to receive two versions of an intervention aiming to increase breast cancer screening and use of cancer genetic services . METHODS\\tA follow-up survey will be mailed 9 months after the intervention to survivors and high-risk relatives to evaluate the efficacy of each intervention version on : a ) use of breast cancer screening and genetic counseling ; b ) perceived barriers and facilitators to screening ; c ) self-efficacy in utilizing cancer genetic and screening services ; d ) family support related to screening ; e ) knowledge of breast cancer genetics ; and f ) satisfaction with the intervention . CONCLUSIONS\\tThe study will enhance efforts of the state of Michigan surrounding cancer prevention , control , and public health genomics .\"\n",
      "}\n",
      "-------------------\n",
      "Document 8:\n",
      "{\n",
      "  \"id\" : \"23694983\",\n",
      "  \"contents\" : \"OBJECTIVE\\tEastern Africa has the highest incidence and mortality rates from cervical cancer worldwide . OBJECTIVE\\tIt is important to describe the differences among women and their perceived risk of cervical cancer to determine target groups to increase cervical cancer screening . METHODS\\tIn this cross-sectional study , we surveyed women seeking reproductive health services in Kisumu , Kenya to assess their perceived risk of cervical cancer and risk factors influencing cervical cancer screening uptake . METHODS\\tstatistics and t tests were used to determine significant factors , which were incorporated into a logistic model to determine factors independently associated with cervical cancer risk perception . RESULTS\\tWhereas 91 % of the surveyed women had heard of cancer , only 29 % of the 388 surveyed women had previously heard of cervical cancer . RESULTS\\tMost had received their information from health care workers . RESULTS\\tFew women ( 6 % ) had ever been screened for cervical cancer and cited barriers such as fear , time , and lack of knowledge about cervical cancer . RESULTS\\tNearly all previously screened women ( 22/24 [ 92 % ] ) believed that cervical cancer was curable if detected early and that screening should be conducted annually ( 86 % ) . RESULTS\\tMost women ( 254/388 [ 65 % ] ) felt they were at risk for cervical cancer . RESULTS\\tWomen with perceived risk of cervical cancer were older ( odds ratio [ OR ] , 1.06 ; 95 % confidence interval [ CI ] , 1.02-1 .10 ) , reported a history of marriage ( OR , 2.08 ; CI , 1.00-4 .30 ) , were less likely to feel adequately informed about cervical cancer by health care providers ( OR , 0.76 ; CI , 0.18-0 .83 ) , and more likely to intend to have cervical cancer screening in the future ( OR , 10.59 ; CI , 3.96-28 .30 ) . RESULTS\\tOnly 5 % of the women reported that they would not be willing to undergo screening regardless of cost . CONCLUSIONS\\tCervical cancer is a major health burden for women in sub-Saharan Africa , yet only one third of the women had ever heard of cervical cancer in Kisumu , Kenya . CONCLUSIONS\\tUnderstanding factors associated with women 's perceived risk of cervical cancer could guide future educational and clinical interventions to increase cervical cancer screening .\"\n",
      "}\n",
      "-------------------\n",
      "Document 9:\n",
      "{\n",
      "  \"id\" : \"10214599\",\n",
      "  \"contents\" : \"OBJECTIVE\\tTo evaluate the effectiveness of a video intervention in decreasing cancer fatalism , increasing knowledge of colorectal cancer , and increasing participation in fecal-occult blood testing ( FOBT ) . METHODS\\tRepeated measures , pretest/post-test . METHODS\\tSenior citizen centers in a rural southern state . METHODS\\tIndividuals were selected and assigned to the study group based on the center they attended . METHODS\\tCenters were selected and assigned randomly to an intervention ( n = 42 ) or control ( n = 28 ) group . METHODS\\tThe age of the participants ranged from 52-92 years ( X = 75 ) . METHODS\\tPretest measures included the Powe Fatalism inventory , the Colorectal Cancer Knowledge Questionnaire , and the Demographic Data Questionnaire . METHODS\\tThe intervention group viewed the Medical University of South Carolina 's video Telling the Story ... To Live is God 's Will , and the control group viewed the American Cancer Society ( ACS ) video Colorectal Cancer : The Cancer No One Talks About . METHODS\\tHemoccult II kits were distributed to both groups at no cost . METHODS\\tPost-test data were collected using the Powe Fatalism Inventory and the Colorectal Cancer Knowledge Questionnaire . METHODS\\tCancer fatalism , knowledge of colorectal cancer , and participation in FOBT . RESULTS\\tPeople who viewed the intervention video had a greater decrease in cancer fatalism scores and a greater increase in knowledge of colorectal cancer scores than the control group . RESULTS\\tBoth groups had greater than 60 % participation in FOBT . CONCLUSIONS\\tTelling the Story ... To Live is God 's Will is an effective , self-contained , cost-effective intervention to decrease cancer fatalism and increase knowledge of colorectal cancer . CONCLUSIONS\\tThe video was as effective as the ACS video on colorectal cancer in increasing participation in FOBT among rural elders . CONCLUSIONS\\tBut , because Telling the Story ... To Live is God 's Will also decreases cancer fatalism and increases knowledge , the potential exists for the increased screening behaviors to be maintained over time . CONCLUSIONS\\tShowing the video in waiting areas of community health centers to facilitate the discussion of colorectal cancer and cancer screening with the healthcare professional is a possibility . CONCLUSIONS\\tNursing students may benefit from using the video as a model for the integration of beliefs and attitudes in developing culturally appropriate , community-based interventions . CONCLUSIONS\\tMore research is needed to determine if the positive outcomes of the intervention ( i.e. , decreased cancer fatalism , increased knowledge , increased participation in colorectal cancer screening ) can be maintained over time .\"\n",
      "}\n",
      "-------------------\n",
      "Document 10:\n",
      "{\n",
      "  \"id\" : \"21047591\",\n",
      "  \"contents\" : \"BACKGROUND\\tThe European randomised study of screening for prostate cancer ( ERSPC ) was initiated to evaluate the effect of Prostate Specific Antigen ( PSA ) screening on prostate cancer mortality . BACKGROUND\\tVariations in screening modalities between participating centres , such as the interval between screening rounds are likely to affect the outcome of screening . METHODS\\tThe study describes the number and characteristics of interval cancers in men in the screening arm of the Antwerp ERSPC aged 55-65 years at the time of randomisation and participating in the screening rounds they were invited for . METHODS\\tThe interval between the first screening rounds was 6 years on average . METHODS\\tInterval cancers were defined as cancers diagnosed during the screening interval but not detected by screening . METHODS\\tCases with a positive screening test were considered as interval cancers if diagnosis through biopsy occurred more than 1 year after screening . METHODS\\tInterval cancer cases were identified through linkage with cancer registries . METHODS\\tAggressive interval cancer was defined as cancer with at least one of the following characteristics : stage M1 or N1 , Gleason score higher than 7 or World Health Organisation ( WHO ) score of 3 . RESULTS\\tThe 10 year cumulative incidence of interval cancers was 3.0 % ( n = 50 ) and the cumulative incidence of aggressive interval cancers was 0.5 % ( n = 8 ) . RESULTS\\tDuring the first screening interval 36 interval cancers were detected . RESULTS\\tOf these 20 ( 55.6 % ) were detected more than 4 years after the initial screening and 5 ( 13.9 % ) were considered aggressive . RESULTS\\tAll aggressive interval cancers emerged more than 4 years after initial screening . CONCLUSIONS\\tThe occurrence of interval cancers in this study was higher than in the ERSPC centres that used a shorter screening interval . CONCLUSIONS\\tAggressive interval cancers only started to emerge 4 years after initial screening .\"\n",
      "}\n",
      "-------------------\n"
     ]
    }
   ],
   "source": [
    "from pyserini.search.lucene import LuceneSearcher\n",
    "import time\n",
    "\n",
    "# 設置搜索器\n",
    "searcher = LuceneSearcher('/home/brian/Desktop/code/python code/IR/pubmed_200k_index')\n",
    "\n",
    "# 開始計時\n",
    "start = time.time()\n",
    "\n",
    "# 進行搜索\n",
    "hits = searcher.search('cancer', k=100)\n",
    "\n",
    "# 結束計時\n",
    "end = time.time()\n",
    "\n",
    "# 計算並輸出執行時間\n",
    "print(\"執行時間：%f 秒\" % (end - start))\n",
    "\n",
    "for i in range(10):\n",
    "    doc_id = hits[i].docid\n",
    "    doc = searcher.doc(doc_id)\n",
    "    print(f'Document {i+1}:')\n",
    "    print(doc.raw())\n",
    "    print('-------------------')"
   ]
  },
  {
   "cell_type": "code",
   "execution_count": 41,
   "metadata": {},
   "outputs": [
    {
     "name": "stdout",
     "output_type": "stream",
     "text": [
      "Processing file: pubmed_200k.jsonl\n",
      "執行時間：0.008557 秒\n"
     ]
    }
   ],
   "source": [
    "import os\n",
    "import json\n",
    "import time\n",
    "\n",
    "# 設定搜索關鍵字\n",
    "search_key = 'cancer'\n",
    "\n",
    "# 設定文件夾路徑\n",
    "folder_path = '/home/brian/Desktop/code/python code/IR/processed' \n",
    "\n",
    "# 建立一個空列表用於存放搜索到的文檔\n",
    "found_documents = []\n",
    "\n",
    "# 開始計時\n",
    "start = time.time()\n",
    "\n",
    "# 設定計數器以限制找到的文檔數量\n",
    "count = 0\n",
    "\n",
    "# 遍歷文件夾中的每個文件\n",
    "for filename in os.listdir(folder_path):\n",
    "    if filename.endswith('.jsonl'):\n",
    "        file_path = os.path.join(folder_path, filename)\n",
    "        print('Processing file:', filename)  \n",
    "        with open(file_path, 'r') as f:\n",
    "            for line in f:\n",
    "                json_data = json.loads(line.strip())\n",
    "                # 檢查關鍵字是否在文檔內容中\n",
    "                if search_key in json_data['contents']:\n",
    "                    found_documents.append(json_data)\n",
    "                    count += 1\n",
    "                    # 如果已經找到10個文檔，則退出迴圈\n",
    "                    if count == 100:\n",
    "                        break\n",
    "\n",
    "# 結束計時\n",
    "end = time.time()\n",
    "\n",
    "# 計算並輸出執行時間\n",
    "print(\"執行時間：%f 秒\" % (end - start))"
   ]
  },
  {
   "cell_type": "code",
   "execution_count": 30,
   "metadata": {},
   "outputs": [
    {
     "data": {
      "text/plain": [
       "[{'id': '16308853',\n",
       "  'contents': 'BACKGROUND\\tUse of blue dye alone as a marker for sentinel lymph node ( SLN ) biopsy is effective , but combining it with isotope marking can improve the success rate . BACKGROUND\\tUse of the isotope adds extra cost and there are potential radiation hazards . BACKGROUND\\tThe two techniques were compared in a randomized trial . METHODS\\tWomen with early breast cancer ( less than 3 cm ) and no palpable axillary nodes were recruited . METHODS\\tWomen older than 70 years with multicentric cancers or previous surgery to the breast or axilla were excluded . METHODS\\tPatients were randomized to either blue dye alone or combined mapping for SLN biopsy . METHODS\\tAll women had a level I and II axillary dissection after the SLN biopsy . RESULTS\\tA total of 123 patients were recruited , of whom five were excluded from analysis . RESULTS\\tBlue dye alone was used in 57 women and 61 had combined mapping . RESULTS\\tBaseline demographic data were similar in the two cohorts . RESULTS\\tThe success rate of SLN biopsy was higher with combined mapping than with blue dye alone ( 100 versus 86 per cent ; P = 0.002 ) . RESULTS\\tThe accuracy and false-negative rate were similar ( accuracy 100 per cent for combined mapping versus 98 per cent for blue dye ; false-negative rate 0 versus 5 per cent ) . CONCLUSIONS\\tCombined mapping was superior to blue dye alone in identification of the SLN , but accuracy and false-negative rates were similar .'},\n",
       " {'id': '1384949',\n",
       "  'contents': \"BACKGROUND\\tSurvivors of advanced Hodgkin disease , who were assigned randomly to treatment by mechlorethamine , vincristine , procarbazine , and prednisone ( MOPP ) ; doxorubicin , bleomycin , vinblastine , and dacarbazine ( ABVD ) ; or MOPP alternating with ABVD in a clinical trial of the Cancer and Leukemia Group B ( protocol 8251 ) , were compared in terms of their psychosocial adaptation and psychosexual function an average of 2.2 years after completion of treatment ( range , 1-5 years ) . BACKGROUND\\tThe study was undertaken to determine if there were differences among treatments in these functional areas as a consequence of differential long-term gonadal damage in the three regimens . METHODS\\tNinety-three disease-free survivors of advanced Hodgkin disease ( 56 men and 37 women ) were studied ( a minimum of 1 year after completion of treatment ) by an interview conducted over the telephone . METHODS\\tStandardized measures were used to assess their psychologic , sexual , family , and vocational functioning , including the following tests : the Psychosocial Adjustment to Illness Scale -- Self Report , the Brief Symptom Inventory , the Profile of Mood States , and the Impact of Event Scale . RESULTS\\tContrary to expectation , no statistically significant differences in survivors ' psychosocial adaptation or psychosexual function were found by treatment arm . RESULTS\\tInfertility ( based on survivors ' reports of medical test results and perceptions ) and lower income 1 year before the diagnosis of cancer were significant predictors of poorer adjustment . RESULTS\\tMost survivors reported a range of problems that they attributed to having had cancer : 35 % , proven or perceived infertility ; 24 % , sexual problems ; 31 % , health and life insurance problems ; 26 % , a negative socioeconomic effect ; and 51 % , conditioned nausea , associated with visual or olfactory reminders of chemotherapy . CONCLUSIONS\\tNo significant long-term advantage in psychosocial adaptation or psychosexual function was found for survivors of Hodgkin disease treated by the less gonadally toxic ABVD regimen 1 to 5 years after completion of treatment .\"},\n",
       " {'id': '24361227',\n",
       "  'contents': 'BACKGROUND\\tPaclitaxel and gemcitabine ( PG ) combination chemotherapy is effective as a maintenance chemotherapeutic regimen in metastatic breast cancer ( MBC ) patients because it increases progression-free survival ( PFS ) , which increases overall survival ( OS ) . BACKGROUND\\tThe primary purpose of our study was to investigate the association between genetic polymorphisms in the genes involved in PG pathways and clinical outcomes in MBC patients treated with PG chemotherapy . METHODS\\tA total of 324 MBC patients were enrolled in this prospective multicenter trial of PG as the first-line chemotherapy . METHODS\\tEighty-five of the 324 patients from two institutes were available for analysis of single nucleotide polymorphisms ( SNPs ) . METHODS\\tGermline DNA was extracted from peripheral blood mononuclear cells . METHODS\\tThirty-eight SNPs in 15 candidate genes selected from pathways that may influence the metabolism and transport of , or sensitivity , to PG were analysed . RESULTS\\tThe median PFS and OS of all 324 patients were 8.7 months ( 95 % confidence interval [ CI ] : 7.5-9 .6 months ) and 26.9 months ( 95 % CI : 23.6-30 .1 months ) , respectively . RESULTS\\tAn SNP in SLC28A3 ( rs7867504 , C/T ) was associated with OS ( CC or CT versus TT : 37 versus 21 months , p = 0.027 , hazard ratio [ HR ] 2.6 , 95 % CI : 1.1-6 .3 ) . RESULTS\\tSLC29A1 GA haplotype had a significantly shorter OS ( p = 0.030 , HR 3.391 , 95 % CI : 1.13-10 .19 ) . RESULTS\\tRRM1 ( ribonucleotide reductase large subunit M1 ) SNP ( rs9937 ) , and haplotypes ATAA and ATGA were significantly associated with neurotoxicity . CONCLUSIONS\\tGenetic polymorphisms in SLC28A3 , SLC29A1 and RRM1 can influence the clinical outcome of MBC patients treated with PG chemotherapy . CONCLUSIONS\\tFurther studies on the functional mechanisms relating to these germline polymorphisms in these genes are warranted .'},\n",
       " {'id': '23460711',\n",
       "  'contents': \"OBJECTIVE\\tElderly patients form a heterogeneous population . OBJECTIVE\\tEvaluation of geriatric factors may help evaluate a patient 's health status to better adapt treatment . METHODS\\tElderly patients with previously untreated metastatic colorectal cancer ( mCRC ) were randomly assigned to receive fluorouracil ( FU ) - based chemotherapy either alone or in combination with irinotecan ( IRI ) in the Fdration Francophone de Cancrologie Digestive ( FFCD ) 2001-02 study . METHODS\\tSites participating in the geriatric substudy completed geriatric screening tools to perform prognostic factor analyses for treatment safety during the first 4 months after treatment initiation . RESULTS\\tThe geriatric score was calculated in 123 patients ( 44 % ) . RESULTS\\tMedian age was 80 years ( range , 75 to 91 years ) . RESULTS\\tThe Charlson comorbidity index was 1 in 75 % , Mini-Mental State Examination ( MMSE ) score was 27/30 in 31 % , and Instrumental Activities of Daily Living ( IADL ) showed impairment in 34 % of the patients . RESULTS\\tSeventy-one patients ( 58 % ) had grade 3 to 4 toxicity , 41 ( 33 % ) had a dose-intensity reduction of more than 33 % , and 54 ( 44 % ) had at least one unexpected hospitalization during the first 4 months after starting treatment . RESULTS\\tIn multivariate analysis , significant predictive factors for grade 3-4 toxicity were IRI arm ( odds ratio [ OR ] , 5.03 ) , MMSE 27/30 ( OR , 3.84 ) , and impaired IADL ( OR , 4.67 ) ; for dose-intensity reduction of > 33 % , the significant predictive factors were alkaline phosphates > 2 upper limit of normal ( OR , 4.16 ) and IRI arm ( OR , 6.85 ) ; and for unexpected hospitalization , significant predictive factors were MMSE 27/30 ( OR , 4.56 ) and Geriatric Depression Scale 2 ( OR , 5.52 ) . CONCLUSIONS\\tGeriatric factors ( MMSE and IADL ) are predictive of severe toxicity or unexpected hospitalization ( MMSE ) in a randomized prospective phase III study in mCRC . CONCLUSIONS\\tThese results suggest that cognitive function and autonomy impairment should be taken into account when choosing a regimen for chemotherapy .\"},\n",
       " {'id': '19078934',\n",
       "  'contents': 'BACKGROUND\\tIn a low socioeconomic-status population of Latina women , we evaluated the potential of storytelling ( ST ) as a culturally aligned narrative method to promote colorectal cancer ( CRC ) prevention and screening , compared to a risk tool ( RT ) - based intervention . METHODS\\tSeventy-eight women were randomized in this pilot study to one of two brief interventions to communicate CRC risk reduction options : ST or an RT. . METHODS\\tMeasures of behavioral intentions relative to CRC prevention and screening were obtained following the intervention . RESULTS\\tMean scores for intent to obtain and recommend endoscopy to others were significantly better for participants receiving ST than RT ( P = .038 and P = .011 , respectively ) . RESULTS\\tAll participants expressed intent to increase fruit and vegetable consumption and physical activity in response to interventions . RESULTS\\tPost-intervention perceptions of cancer risk and fear of CRC were not significantly different for participants receiving ST compared with RT. . RESULTS\\tPre - to post-intervention perceptions of risk increased in ST and decreased in RT , while decreases in fear were similar across both intervention groups . CONCLUSIONS\\tStorytelling may be an effective approach for changing CRC risk-related behavioral intentions among Latinas . CONCLUSIONS\\tMediating factors ( such as perceived risk or fear ) often used to predict behavior change may not adequately explain the potential persuasive mechanisms of storytelling .'},\n",
       " {'id': '17520382',\n",
       "  'contents': 'OBJECTIVE\\tTo evaluate enhanced recovery after surgery ( ERAS ) protocol in colorectal surgery . METHODS\\tFrom september 2006 to February 2007 , 74 patients with colorectal cancer were randomly assigned to ERAS group and control group . METHODS\\tThe stress index , nutrition and metabolism index , intraoperative index and postoperative index were evaluated . RESULTS\\tSix patients were excluded , 3 in ERAS group ( 2 cases received hepatectomy concomitantly and 1 case received partial ileum resection ) , and 3 in control group ( 1 case received hepatectomy and 1 case received colorectomy concomitantly , another presented asthma paroxysm ) . RESULTS\\tSo there were 34 cases in ERAS group and 34 cases in control , with no statistical differences in sex , age , BMI index and operation types . RESULTS\\tDeviation of HOMA-IR index of ERAS was lower than the control ( P > 0.05 ) , the same as plasma cortisol at the 1st day after operation ( P < 0.05 ) , but plasma glucagons in the operation of ERAS group was higher than that of control ( P < 0.05 ) . RESULTS\\tPlasma glucose 1st day after operation of ERAS group was lower than control ( P < 0.05 ) , while plasma triglyceride intraoperation , at 1st day , 2nd day after operation of ERAS was higher than control ( P < 0.05 ) . RESULTS\\tNitrogen negative balance of ERAS group was higher than control at 2nd day after surgery , but is lower intraoperation and at 6th day after operation ( P < 0.05 ) . RESULTS\\tThe time of exhaust gas and stool , time to eat fluidity and semi-fluidity , out-of-bed time and exercise time per-day , residual time and complication rate in ERAS group were better than those of control ( P < 0.05 ) . RESULTS\\tPost-operative expenses of ERAS was lower than that of control ( P < 0.05 ) . CONCLUSIONS\\tERAS can decrease surgical stress , increase functional recovery and reduce complication rate .'},\n",
       " {'id': '11390121',\n",
       "  'contents': 'OBJECTIVE\\tTo demonstrate equivalent efficacy for menopausal symptoms between Aerodiol nasal spray and reference oral estradiol therapy , and to investigate the endometrial safety and tolerability of Aerodiol in the long term . METHODS\\tThe efficacy of Aerodiol 300 microg , once daily , was compared with oral estradiol 2 mg/day in a randomized , double-blind trial . METHODS\\tA statistical test of noninferiority was performed on the mean absolute Kupperman index ( KI ) obtained after 14 and 23 weeks of the two treatments . METHODS\\tLong-term safety was assessed in a 1-year open-label study . METHODS\\tThe initial Aerodiol dose was 300 microg/day , and was adjusted if required . METHODS\\tEndometrial biopsies were obtained at inclusion and at the end of the trial and examined independently by two pathologists . RESULTS\\tIn the equivalence trial , the KI improved similarly in the Aerodiol group ( n = 317 ) and the oral estradiol group ( n = 342 ) . RESULTS\\tAerodiol was shown statistically to be at least as effective as oral therapy ( P < 0.001 ) , but the incidences of mastalgia and withdrawal bleeding were significantly lower in the Aerodiol group ( P < 0.01 and P < 0.001 , respectively ) . RESULTS\\tIn the long-term safety trial ( n = 408 ) , the rate of Aerodiol treatment continuation at 12 months was 85 % , and there was no incidence of endometrial hyperplasia or cancer . RESULTS\\tAerodiol dose adaptation was performed by 29 % of women . CONCLUSIONS\\tAerodiol was shown to have equivalent efficacy to reference oral estradiol therapy , but with better gynaecological acceptability . CONCLUSIONS\\tThe endometrial safety of Aerodiol was confirmed in the long term , and the ability to adjust the dosage easily was of benefit to a substantial proportion of women .'},\n",
       " {'id': '17577218',\n",
       "  'contents': 'BACKGROUND\\tThis randomized , noncomparative , multicenter , clinical trial evaluated ixabepilone or mitoxantrone/prednisone ( MP ) as second-line chemotherapy for taxane-refractory , hormone-refractory , prostate cancer ( HRPC ) . METHODS\\tPatients with HRPC that progressed during or within 60 days of cessation of taxane chemotherapy were randomly selected with equal probability to ixabepilone 35 mg/m ( 2 ) intravenously every 3 weeks , or mitoxantrone 14 mg/m ( 2 ) intravenously every 3 weeks and prednisone 5 mg orally twice daily . METHODS\\tTreatment continued until progression or toxicity ; crossover was allowed . RESULTS\\tForty-one patients were accrued to each arm of the study . RESULTS\\tThe median number of cycles administered for each arm was 3 . RESULTS\\tMedian survival from protocol entry was 10.4 months with ixabepilone and 9.8 months with MP . RESULTS\\tProstate-specific antigen ( PSA ) declines of > or = 50 % were observed in 17 % of ixabepilone ( 95 % CI , 7-32 ) and 20 % of second-line MP patients ( 95 % CI , 9-35 ) . RESULTS\\tPartial responses were observed in 1 of 24 ixabepilone and in 2 of 21 MP patients with evaluable measurable disease . RESULTS\\tMedian duration of second-line ixabepilone and MP treatment was 2.2 months and 2.3 months , respectively . RESULTS\\tFor third-line crossover treatment , PSA declines of > or = 50 % were observed in 3 of 27 ixabepilone-treated and 4 of 15 MP-treated patients . RESULTS\\tPrior taxane response was associated with an increased likelihood of second-line ixabepilone or MP response . RESULTS\\tLow baseline lactate dehydrogenase and absence of visceral metastases independently predicted improved survival . RESULTS\\tThe most common grade 3/4 toxicity associated with second-line treatment was neutropenia ( 54 % of ixabepilone patients and 63 % of MP patients ) . CONCLUSIONS\\tIxabepilone and MP had modest activity as second-line chemotherapy for docetaxel-refractory HRPC . CONCLUSIONS\\tThe median survival for the entire cohort treated in this study was 9.8 months .'},\n",
       " {'id': '9929018',\n",
       "  'contents': 'BACKGROUND\\tRadical radiotherapy is commonly used to treat localised prostate cancer . BACKGROUND\\tLate chronic side-effects limit the dose that can be given , and may be linked to the volume of normal tissues irradiated . BACKGROUND\\tConformal radiotherapy allows a smaller amount of rectum and bladder to be treated , by shaping the high-dose volume to the prostate . BACKGROUND\\tWe assessed the ability of this new technology to lessen the risk of radiation-related effects in a randomised controlled trial of conformal versus conventional radiotherapy . METHODS\\tWe recruited men with prostate cancer for treatment with a standard dose of 64 Gy in daily 2 Gy fractions . METHODS\\tThe men were randomly assigned conformal or conventional radiotherapy treatment . METHODS\\tThe primary endpoint was the development of late radiation complications ( > 3 months after treatment ) measured with the Radiation Therapy and Oncology Group ( RTOG ) score . METHODS\\tIndicators of disease ( cancer ) control were also recorded . RESULTS\\tIn the 225 men treated , significantly fewer men developed radiation-induced proctitis and bleeding in the conformal group than in the conventional group ( 37 vs 56 % > or = RTOG grade 1 , p = 0.004 ; 5 vs 15 % > or = RTOG grade 2 , p = 0.01 ) . RESULTS\\tThere were no differences between groups in bladder function after treatment ( 53 vs 59 % > or = grade 1 , p = 0.34 ; 20 vs 23 % > or = grade 2 , p = 0.61 ) . RESULTS\\tAfter median follow-up of 3.6 years there was no significant difference between groups in local tumour control ( conformal 78 % [ 95 % CI 66-86 ] , conventional 83 % [ 69-90 ] ) . CONCLUSIONS\\tConformal techniques significantly lowered the risk of late radiation-induced proctitis after radiotherapy for prostate cancer . CONCLUSIONS\\tWidespread introduction of these radiotherapy treatment methods is appropriate . CONCLUSIONS\\tOur results are the basis for dose-escalation studies to improve local tumour control .'},\n",
       " {'id': '24954805',\n",
       "  'contents': 'BACKGROUND\\tThe prognosis for locally advanced gastric cancer is poor despite advances in adjuvant chemotherapy . BACKGROUND\\tWe did the Stomach cancer Adjuvant Multi-Institutional group Trial ( SAMIT ) to assess the superiority of sequential treatment ( paclitaxel then tegafur and uracil [ UFT ] or paclitaxel then S-1 ) compared with monotherapy ( UFT or S-1 ) and also the non-inferiority of UFT compared with S-1 . METHODS\\tWe did this randomised phase 3 trial with a two-by-two factorial design at 230 hospitals in Japan . METHODS\\tWe enrolled patients aged 20-80 years with T4a or T4b gastric cancer , who had had D2 dissection and a ECOG performance score of 0-1 . METHODS\\tPatients were randomly assigned to one of four treatment groups with minimisation for tumour size , lymph node metastasis , and study site . METHODS\\tPatients received UFT only ( 267 mg/m ( 2 ) per day ) , S-1 only ( 80 mg/m ( 2 ) per day ) for 14 days , with a 7-day rest period or three courses of intermittent weekly paclitaxel ( 80 mg/m ( 2 ) ) followed by either UFT , or S-1 . METHODS\\tTreatment lasted 48 weeks in monotherapy groups and 49 weeks in the sequential treatment groups . METHODS\\tThe primary endpoint was disease-free survival assessed by intention to treat . METHODS\\tWe assessed whether UFT was non-inferior to S-1 with a non-inferiority margin of 133 . METHODS\\tThis trial was registered at UMIN Clinical Trials Registry , number C000000082 . RESULTS\\tWe randomly assigned 1495 patients between Aug 3 , 2004 , and Sept 29 , 2009.374 patients were assigned to receive UFT alone , 374 to receive S-1 alone , 374 to received paclitaxel then UFT , and 373 to receive paclitaxel then S-1 . RESULTS\\tWe included 1433 patients in the primary analysis after at least 3 years of follow-up ( 359 , 364 , 355 , and 355 in each group respectively ) . RESULTS\\tProtocol treatment was completed by 215 ( 60 % ) patients in the UFT group , 224 ( 62 % ) in the S-1 group , 242 ( 68 % ) in the paclitaxel then UFT group , and 250 ( 70 % ) in the paclitaxel then S-1 group . RESULTS\\t3-year disease-free survival for monotherapy was 540 % ( 95 % CI 502-576 ) and that of sequential treatment was 572 % ( 534-608 ; hazard ratio [ HR ] 092 , 95 % CI 080-107 , p = 0273 ) . RESULTS\\t3-year disease-free survival for the UFT group was 530 % ( 95 % CI 492-566 ) and that of the S-1 group was 582 % ( 544-618 ; HR 081 , 95 % CI 070-093 , p = 00048 ; pnon-inferiority = 0151 ) . RESULTS\\tThe most common grade 3-4 haematological adverse event was neutropenia ( 41 [ 11 % ] of 359 patients in the UFT group , 48 [ 13 % ] of 363 in the S-1 group , 46 [ 13 % ] of 355 in the paclitaxel then UFT group , and 83 [ 23 % ] of 356 in the paclitaxel then S-1 group ) . RESULTS\\tThe most common grade 3-4 non-haematological adverse event was anorexia ( 21 [ 6 % ] , 24 [ 7 % ] , seven [ 2 % ] , and 18 [ 5 % ] , respectively ) . CONCLUSIONS\\tSequential treatment did not improve disease-free survival , and UFT was not non-inferior to S-1 ( and S-1 was superior to UFT ) , therefore S-1 monotherapy should remain the standard treatment for locally advanced gastric cancer in Japan . BACKGROUND\\tEpidemiological and Clinical Research Information Network .'}]"
      ]
     },
     "execution_count": 30,
     "metadata": {},
     "output_type": "execute_result"
    }
   ],
   "source": [
    "found_documents"
   ]
  }
 ],
 "metadata": {
  "kernelspec": {
   "display_name": "IR",
   "language": "python",
   "name": "python3"
  },
  "language_info": {
   "codemirror_mode": {
    "name": "ipython",
    "version": 3
   },
   "file_extension": ".py",
   "mimetype": "text/x-python",
   "name": "python",
   "nbconvert_exporter": "python",
   "pygments_lexer": "ipython3",
   "version": "3.10.13"
  }
 },
 "nbformat": 4,
 "nbformat_minor": 2
}
